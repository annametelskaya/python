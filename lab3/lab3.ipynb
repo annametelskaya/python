{
 "cells": [
  {
   "cell_type": "code",
   "execution_count": 3,
   "metadata": {
    "scrolled": true
   },
   "outputs": [
    {
     "name": "stdout",
     "output_type": "stream",
     "text": [
      "[('John Doe1', 'cheese', 2), ('John Doe1', 'scissors', 5), ('Johsn Doe2', 'milk', 2), ('Johsn Doe2', 'scisddsors', 2), ('Johsn Fefeoe4', 'cheese', 4), ('Johsn Fefeoe4', 'sciss2ors', 4), ('Johvdn Doe3', 'sci3ssors', 2), ('Johvdn Doe3', 'sci3ssors', 6), ('Josvhn Eoe5', 'sciss2ors', 8), ('Josvhn Eoe5', 'sciss2ors', 8), ('Jovhn Doe6', 'milk', 9), ('Jovhn Doe6', 'scissodrs', 9)]\n",
      "John Doe1: {'cheese': 2, 'scissors': 5}\n",
      "Johsn Doe2: {'milk': 2, 'scisddsors': 2}\n",
      "Johsn Fefeoe4: {'cheese': 4, 'sciss2ors': 4}\n",
      "Johvdn Doe3: {'sci3ssors': 8}\n",
      "Josvhn Eoe5: {'sciss2ors': 16}\n",
      "Jovhn Doe6: {'milk': 9, 'scissodrs': 9}\n"
     ]
    }
   ],
   "source": [
    "bd = sorted(map(lambda x: tuple([x.split('|')[0], x.split('|')[1], int(x.split('|')[2])]), open(\"first_task.txt\", \"r\").read().split(\"\\n\")))\n",
    "print (bd)\n",
    "\n",
    "user_list = {}\n",
    "for index, user in enumerate(bd):\n",
    "    if user[0] not in user_list:\n",
    "        user_list[user[0]] = {}\n",
    "\n",
    "    if user[1] not in user_list[user[0]]:\n",
    "        user_list[user[0]][user[1]] = 0\n",
    "\n",
    "    user_list[user[0]][user[1]] += user[2]\n",
    "\n",
    "for key in sorted(user_list):\n",
    "    print (\"%s: %s\" % (key, user_list[key]))"
   ]
  },
  {
   "cell_type": "code",
   "execution_count": 6,
   "metadata": {},
   "outputs": [
    {
     "name": "stdout",
     "output_type": "stream",
     "text": [
      "{'file1': ['R', 'W'], 'file2': ['X'], 'file3': ['W', 'X'], 'file4': ['R', 'W', 'X'], 'file5': ['W', 'X']}\n",
      "OK\n",
      "OK\n",
      "OK\n",
      "OK\n",
      "Access denied\n",
      "Access denied\n",
      "Access denied\n",
      "Access denied\n",
      "OK\n",
      "OK\n"
     ]
    }
   ],
   "source": [
    "f = open(\"second_task.txt\", \"r\")\n",
    "n = int(f.readline())\n",
    "files = {}\n",
    "for i in range(n):\n",
    "    temp = f.readline().split()\n",
    "    files[temp[0]] = temp[1:]\n",
    "print(files)\n",
    "m = int(f.readline())\n",
    "for i in range(m):\n",
    "    temp = f.readline().split()\n",
    "    if temp[1] in files[temp[0]]:\n",
    "        print(\"OK\")\n",
    "    else:\n",
    "        print(\"Access denied\")\n",
    "f.close()"
   ]
  },
  {
   "cell_type": "raw",
   "metadata": {},
   "source": [
    "##### import numpy as np\n",
    "\n",
    "n, m = map(int, input(\"Enter n, m: \").split())\n",
    "print(n, m)\n",
    "matrix = np.array([\n",
    "    [\n",
    "        m if i == j else (\n",
    "            m - abs(i - j) if m - abs(i - j) >= n and m >= n else (\n",
    "                -abs(i - j) - n if m - abs(i - j) < n <= m else (\n",
    "                    m + abs(i - j) if m + abs(i - j) <= n and m < n else (\n",
    "                        -2 * m - abs(i - j) + n if m + abs(i - j) > n > m else 999))))\n",
    "        for j in range(n)\n",
    "    ]\n",
    "    for i in range(n)\n",
    "])\n",
    "print(matrix)"
   ]
  },
  {
   "cell_type": "code",
   "execution_count": null,
   "metadata": {},
   "outputs": [],
   "source": []
  }
 ],
 "metadata": {
  "kernelspec": {
   "display_name": "Python 3",
   "language": "python",
   "name": "python3"
  },
  "language_info": {
   "codemirror_mode": {
    "name": "ipython",
    "version": 3
   },
   "file_extension": ".py",
   "mimetype": "text/x-python",
   "name": "python",
   "nbconvert_exporter": "python",
   "pygments_lexer": "ipython3",
   "version": "3.6.8"
  }
 },
 "nbformat": 4,
 "nbformat_minor": 2
}

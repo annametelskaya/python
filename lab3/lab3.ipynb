{
 "cells": [
  {
   "cell_type": "code",
   "execution_count": 15,
   "metadata": {
    "scrolled": true
   },
   "outputs": [
    {
     "name": "stdout",
     "output_type": "stream",
     "text": [
      "Anna Metelskaya apple - 5\n",
      "Anna Metelskaya banana - 1\n",
      "Anna Metelskaya lemon - 5\n",
      "Anna Metelskaya orange - 3\n",
      "Anna Metelskaya pear - 2\n",
      "Veronika Bogdanovich apple - 3\n",
      "Veronika Bogdanovich banana - 2\n",
      "Veronika Bogdanovich orange - 4\n",
      "Veronika Bogdanovich pear - 7\n",
      "Anna Metelskaya {'apple': 5, 'banana': 1, 'lemon': 5, 'orange': 3, 'pear': 2}\n",
      "Veronika Bogdanovich {'apple': 3, 'banana': 2, 'orange': 4, 'pear': 7}\n"
     ]
    }
   ],
   "source": [
    "bd = sorted(map(lambda x: tuple([x.split('|')[0], x.split('|')[1], int(x.split('|')[2])]), open(\"first_task.txt\", \"r\").read().split(\"\\n\")))\n",
    "for u in bd:\n",
    "    print (f\"{u[0]} {u[1]} - {u[2]}\")\n",
    "\n",
    "user_list = {}\n",
    "for index, user in enumerate(bd):\n",
    "    if user[0] not in user_list:\n",
    "        user_list[user[0]] = {}\n",
    "\n",
    "    if user[1] not in user_list[user[0]]:\n",
    "        user_list[user[0]][user[1]] = 0\n",
    "\n",
    "    user_list[user[0]][user[1]] += user[2]\n",
    "\n",
    "for key in sorted(user_list):\n",
    "    print (f\"{key} { user_list[key]}\")"
   ]
  },
  {
   "cell_type": "code",
   "execution_count": 16,
   "metadata": {},
   "outputs": [
    {
     "name": "stdout",
     "output_type": "stream",
     "text": [
      "{'file1': ['R', 'W'], 'file2': ['R', 'W', 'X'], 'file3': ['W', 'X'], 'file4': ['W']}\n",
      "OK\n",
      "OK\n",
      "OK\n",
      "OK\n",
      "Access denied\n",
      "OK\n",
      "Access denied\n",
      "Access denied\n"
     ]
    }
   ],
   "source": [
    "f = open(\"second_task.txt\", \"r\")\n",
    "n = int(f.readline())\n",
    "files = {}\n",
    "for i in range(n):\n",
    "    temp = f.readline().split()\n",
    "    files[temp[0]] = temp[1:]\n",
    "print(files)\n",
    "m = int(f.readline())\n",
    "for i in range(m):\n",
    "    temp = f.readline().split()\n",
    "    if temp[1] in files[temp[0]]:\n",
    "        print(\"OK\")\n",
    "    else:\n",
    "        print(\"Access denied\")\n",
    "f.close()"
   ]
  },
  {
   "cell_type": "code",
   "execution_count": 19,
   "metadata": {},
   "outputs": [
    {
     "name": "stdout",
     "output_type": "stream",
     "text": [
      "Enter n, m: 8 4\n",
      "8 4\n",
      "[[ 4  5  6  7  8 -5 -6 -7]\n",
      " [ 5  4  5  6  7  8 -5 -6]\n",
      " [ 6  5  4  5  6  7  8 -5]\n",
      " [ 7  6  5  4  5  6  7  8]\n",
      " [ 8  7  6  5  4  5  6  7]\n",
      " [-5  8  7  6  5  4  5  6]\n",
      " [-6 -5  8  7  6  5  4  5]\n",
      " [-7 -6 -5  8  7  6  5  4]]\n"
     ]
    }
   ],
   "source": [
    "import numpy as np\n",
    "\n",
    "n, m = map(int, input(\"Enter n, m: \").split())\n",
    "print(n, m)\n",
    "matrix = np.array([\n",
    "    [\n",
    "        m if i == j else (\n",
    "            m - abs(i - j) if m - abs(i - j) >= n and m >= n else (\n",
    "                -abs(i - j) - n if m - abs(i - j) < n <= m else (\n",
    "                    m + abs(i - j) if m + abs(i - j) <= n and m < n else (\n",
    "                        -2 * m - abs(i - j) + n if m + abs(i - j) > n > m else 999))))\n",
    "        for j in range(n)\n",
    "    ]\n",
    "    for i in range(n)\n",
    "])\n",
    "print(matrix)"
   ]
  }
 ],
 "metadata": {
  "kernelspec": {
   "display_name": "Python 3",
   "language": "python",
   "name": "python3"
  },
  "language_info": {
   "codemirror_mode": {
    "name": "ipython",
    "version": 3
   },
   "file_extension": ".py",
   "mimetype": "text/x-python",
   "name": "python",
   "nbconvert_exporter": "python",
   "pygments_lexer": "ipython3",
   "version": "3.6.8"
  }
 },
 "nbformat": 4,
 "nbformat_minor": 2
}

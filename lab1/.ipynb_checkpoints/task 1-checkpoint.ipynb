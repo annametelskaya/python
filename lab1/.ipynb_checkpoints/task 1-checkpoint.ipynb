{
 "cells": [
  {
   "cell_type": "code",
   "execution_count": null,
   "metadata": {},
   "outputs": [],
   "source": [
    "# По вещественному неотрицательному числу N вывести все\n",
    "# натуральные степени ≤ n простых чисел, не превосходящих N, в\n",
    "# порядке возрастания. N и n вводятся с клавиатуры. К примеру, если\n",
    "# введено N = 10.23, n = 5, то вывод должен быть таким:\n",
    "# количество простых чисел: 4\n",
    "# простые числа: 2, 3, 5, 7\n",
    "# квадраты: 4, 9, 25, 49\n",
    "# кубы: 8, 27, 125, 343\n",
    "# 4-е степени: 16, 81, 625, 2401\n",
    "# 5-е степени: 32, 243, 3125, 16807"
   ]
  },
  {
   "cell_type": "code",
   "execution_count": 1,
   "metadata": {},
   "outputs": [],
   "source": [
    "import math\n",
    "\n",
    "class Number:\n",
    "    n=0\n",
    "    N=0\n",
    "    arr=[]\n",
    "    \n",
    "    def __init__(self):\n",
    "        self.n=int(input('Введите степень n: '))\n",
    "        while(self.n<0):\n",
    "            self.n = int(input('число не может быть меньше 0\\nВведите заново: '))\n",
    "        self.N=float(input('Введите число N: '))\n",
    "        while(self.N<0):\n",
    "            self.N = float(input('число не может быть меньше 0\\nВведите заново: '))\n",
    "            \n",
    "    def getSimpleNumbers(self):\n",
    "        self.arr=[]\n",
    "        for i in range(2,math.ceil(self.N)):\n",
    "            isSimple=True\n",
    "            for j in range(2,i):\n",
    "                if i%j==0:\n",
    "                    isSimple=False\n",
    "            if(isSimple):\n",
    "                self.arr.append(i) \n",
    "        return self.arr\n",
    "                \n",
    "    def printDegrees(self):\n",
    "        for i in range(2,self.n+1):\n",
    "            powerArr=[]\n",
    "            for j in range(len(self.arr)):\n",
    "                powerArr.append((self.arr[j])**i)\n",
    "            print(i,' степень',' '.join(map(str,powerArr)))\n",
    "            \n",
    "    def __str__(self):\n",
    "        return ' '.join(map(str,self.arr))"
   ]
  },
  {
   "cell_type": "code",
   "execution_count": 2,
   "metadata": {},
   "outputs": [
    {
     "name": "stdout",
     "output_type": "stream",
     "text": [
      "Введите степень n: 5\n",
      "Введите число N: 10.23\n",
      "Количество простых чисел:  4\n",
      "Простые чисела:  2 3 5 7\n",
      "2  степень 4 9 25 49\n",
      "3  степень 8 27 125 343\n",
      "4  степень 16 81 625 2401\n",
      "5  степень 32 243 3125 16807\n"
     ]
    }
   ],
   "source": [
    "b=Number()\n",
    "print('Количество простых чисел: ',len(b.getSimpleNumbers()))\n",
    "print('Простые чисела: ',b)\n",
    "b.printDegrees()"
   ]
  }
 ],
 "metadata": {
  "kernelspec": {
   "display_name": "Python 3",
   "language": "python",
   "name": "python3"
  },
  "language_info": {
   "codemirror_mode": {
    "name": "ipython",
    "version": 3
   },
   "file_extension": ".py",
   "mimetype": "text/x-python",
   "name": "python",
   "nbconvert_exporter": "python",
   "pygments_lexer": "ipython3",
   "version": "3.6.8"
  }
 },
 "nbformat": 4,
 "nbformat_minor": 2
}

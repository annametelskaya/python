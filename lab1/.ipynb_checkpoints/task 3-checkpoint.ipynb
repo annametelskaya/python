{
 "cells": [
  {
   "cell_type": "code",
   "execution_count": 4,
   "metadata": {},
   "outputs": [],
   "source": [
    "# По заданной последовательности вещественных чисел определить\n",
    "# количество элементов, больших предыдущего, количество элементов,\n",
    "# меньших предыдущего, а также характер монотонности данной\n",
    "# последовательности (возрастающая, убывающая, не обладающая\n",
    "# свойством монотонности). Не используя встроенные функции\n",
    "# сортировки, отсортировать данную последовательность в порядке\n",
    "# возрастания и построить «лесенку». К примеру, если имеется\n",
    "# последовательность 5, 8, 6, 3, 2, 9, то «лесенка» должна быть\n",
    "# следующей:\n",
    "#  2\n",
    "#  2 3\n",
    "#  2 3 5\n",
    "#  2 3 5 6\n",
    "#  2 3 5 6 8\n",
    "#  2 3 5 6 8 9"
   ]
  },
  {
   "cell_type": "code",
   "execution_count": 1,
   "metadata": {},
   "outputs": [],
   "source": [
    "class Sequence:\n",
    "    arr=[]\n",
    "    \n",
    "    def __init__(self):\n",
    "        self.arr=list(map(float,input('Введите последовательность через пробел: ').split()))\n",
    "        \n",
    "    def sortArray(self):  #merge sort\n",
    "        for i in range(len(self.arr)):\n",
    "            j=i-1 \n",
    "            key=self.arr[i]\n",
    "            while self.arr[j]>key and j>=0:\n",
    "                self.arr[j+1]=self.arr[j]\n",
    "                j-=1\n",
    "            self.arr[j+1]=key\n",
    "        \n",
    "    def counter(self, prev):\n",
    "        more = 0\n",
    "        less = 0\n",
    "        for i in range (1,len(self.arr)):\n",
    "            if(prev<self.arr[i]):\n",
    "                more += 1\n",
    "            else:\n",
    "                less += 1\n",
    "        return [more,less]\n",
    "    \n",
    "    def isIncremental(self):\n",
    "        for i in range (len(self.arr)-1):\n",
    "            if(not(self.arr[i]<self.arr[i+1])):\n",
    "                return False\n",
    "        return True\n",
    "    \n",
    "    def isDecremental(self):\n",
    "        for i in range (len(self.arr)-1):\n",
    "            if(not(self.arr[i]>self.arr[i+1])):\n",
    "                return False\n",
    "        return True\n",
    "    \n",
    "    def checkTypeOfSequence(self):\n",
    "        if(self.isIncremental()):\n",
    "            return 'Убывающая'\n",
    "        if(self.isDecremental()):\n",
    "            return 'Возрастающая'\n",
    "        return 'Не монотонная'\n",
    "    \n",
    "    def getInformationAboutPrev(self):\n",
    "        for i in range (1,len(self.arr)):\n",
    "            print('количество элементов больше',self.arr[i-1],', предыдущего для',self.arr[i],':', self.counter(self.arr[i-1])[0])\n",
    "            print('количество элементов меньше',self.arr[i-1],', предыдущего для',self.arr[i],':', self.counter(self.arr[i-1])[1])\n",
    "    \n",
    "    def printTriangle(self):\n",
    "        new = []\n",
    "        for i in range(len(self.arr)):\n",
    "            new.append(self.arr[i])\n",
    "            print(' '.join(map(str,new)))\n",
    "    \n",
    "    def __str__(self):\n",
    "        return ' '.join(map(str,self.arr))"
   ]
  },
  {
   "cell_type": "code",
   "execution_count": 2,
   "metadata": {},
   "outputs": [
    {
     "name": "stdout",
     "output_type": "stream",
     "text": [
      "Введите последовательность через пробел: 5 8 6 3 2 9\n",
      "Последовательность:  5.0 8.0 6.0 3.0 2.0 9.0\n",
      "количество элементов больше 5.0 , предыдущего для 8.0 : 3\n",
      "количество элементов меньше 5.0 , предыдущего для 8.0 : 2\n",
      "количество элементов больше 8.0 , предыдущего для 6.0 : 1\n",
      "количество элементов меньше 8.0 , предыдущего для 6.0 : 4\n",
      "количество элементов больше 6.0 , предыдущего для 3.0 : 2\n",
      "количество элементов меньше 6.0 , предыдущего для 3.0 : 3\n",
      "количество элементов больше 3.0 , предыдущего для 2.0 : 3\n",
      "количество элементов меньше 3.0 , предыдущего для 2.0 : 2\n",
      "количество элементов больше 2.0 , предыдущего для 9.0 : 4\n",
      "количество элементов меньше 2.0 , предыдущего для 9.0 : 1\n",
      "Характер монотонности:  Не монотонная\n",
      "Последовательность после сортировки:  2.0 3.0 5.0 6.0 8.0 9.0\n",
      "2.0\n",
      "2.0 3.0\n",
      "2.0 3.0 5.0\n",
      "2.0 3.0 5.0 6.0\n",
      "2.0 3.0 5.0 6.0 8.0\n",
      "2.0 3.0 5.0 6.0 8.0 9.0\n"
     ]
    }
   ],
   "source": [
    "b=Sequence()\n",
    "print('Последовательность: ',b)\n",
    "b.getInformationAboutPrev()\n",
    "print('Характер монотонности: ',b.checkTypeOfSequence())\n",
    "b.sortArray()\n",
    "print('Последовательность после сортировки: ',b)\n",
    "b.printTriangle()"
   ]
  },
  {
   "cell_type": "code",
   "execution_count": null,
   "metadata": {},
   "outputs": [],
   "source": []
  }
 ],
 "metadata": {
  "kernelspec": {
   "display_name": "Python 3",
   "language": "python",
   "name": "python3"
  },
  "language_info": {
   "codemirror_mode": {
    "name": "ipython",
    "version": 3
   },
   "file_extension": ".py",
   "mimetype": "text/x-python",
   "name": "python",
   "nbconvert_exporter": "python",
   "pygments_lexer": "ipython3",
   "version": "3.6.8"
  }
 },
 "nbformat": 4,
 "nbformat_minor": 2
}

{
 "cells": [
  {
   "cell_type": "code",
   "execution_count": null,
   "metadata": {},
   "outputs": [],
   "source": [
    "# По заданной последовательности (введённой с клавиатуры)\n",
    "# вещественных чисел (в последовательности более 2 чисел)\n",
    "# определить:\n",
    "# а) 2 числа: число N такое, что больше него только max, и число M такое,\n",
    "# что меньше него только min\n",
    "# б) Количество вхождений N, количество вхождений M в\n",
    "# последовательность\n",
    "# в) Номера элементов, на которых находятся N и M. Причём номера\n",
    "# считаем от 1 (если в Python номер элемента = 0, то выводиться должна\n",
    "# 1)."
   ]
  },
  {
   "cell_type": "code",
   "execution_count": 4,
   "metadata": {},
   "outputs": [],
   "source": [
    "class Sequence:\n",
    "    arr=[]\n",
    "    \n",
    "    def __init__(self):\n",
    "        self.arr=list(map(float,input('Введите последовательность через пробел: ').split()))\n",
    "    \n",
    "    def findNextMin(self):\n",
    "        minNum=1000\n",
    "        for i in range(0,len(self.arr)):\n",
    "            if(self.arr[i]<minNum and self.arr[i]!=min(self.arr)):\n",
    "                minNum=self.arr[i]\n",
    "        if minNum!=1000:\n",
    "            return minNum\n",
    "        else:\n",
    "            return None\n",
    "        \n",
    "    def findPreviousMax(self):\n",
    "        maxNum=0\n",
    "        for i in range(len(self.arr)):\n",
    "            if(self.arr[i]>maxNum and self.arr[i]!=max(self.arr)):\n",
    "                maxNum=self.arr[i]\n",
    "        if maxNum!=0:\n",
    "            return maxNum\n",
    "        else:\n",
    "            return None\n",
    "    \n",
    "    def counter(self,number):\n",
    "        count=0;\n",
    "        for i in range(len(self.arr)):\n",
    "            if(self.arr[i]==number):\n",
    "                count+=1\n",
    "        return count\n",
    "    \n",
    "    def getIndex(self,value):\n",
    "        indexes=[]\n",
    "        for i in range(len(self.arr)):\n",
    "            if(self.arr[i]==value):\n",
    "                indexes.append(i+1)\n",
    "        return indexes\n",
    "    \n",
    "    def __str__(self):\n",
    "        return '  '.join(map(str,self.arr))"
   ]
  },
  {
   "cell_type": "code",
   "execution_count": 5,
   "metadata": {},
   "outputs": [
    {
     "name": "stdout",
     "output_type": "stream",
     "text": [
      "Введите последовательность через пробел: 1 2 3\n",
      "Последовательность:  1.0  2.0  3.0\n",
      "предыдущий перед максимумом N= 2.0  следующий после минимума M= 2.0\n",
      "N повторяется  1  раз и M повторяется  1  раз\n",
      "индекс(ы) числа N:  2\n",
      "индекс(ы) числа M:  2\n"
     ]
    }
   ],
   "source": [
    "b=Sequence()\n",
    "print('Последовательность: ',b)\n",
    "print('предыдущий перед максимумом N=',b.findPreviousMax(),' следующий после минимума M=',b.findNextMin())\n",
    "print('N повторяется ',b.counter(b.findPreviousMax()),' раз и M повторяется ',b.counter(b.findNextMin()),' раз')\n",
    "print('индекс(ы) числа N: ','  '.join(map(str,b.getIndex(b.findPreviousMax()))))\n",
    "print('индекс(ы) числа M: ','  '.join(map(str,b.getIndex(b.findNextMin()))))"
   ]
  }
 ],
 "metadata": {
  "kernelspec": {
   "display_name": "Python 3",
   "language": "python",
   "name": "python3"
  },
  "language_info": {
   "codemirror_mode": {
    "name": "ipython",
    "version": 3
   },
   "file_extension": ".py",
   "mimetype": "text/x-python",
   "name": "python",
   "nbconvert_exporter": "python",
   "pygments_lexer": "ipython3",
   "version": "3.6.8"
  }
 },
 "nbformat": 4,
 "nbformat_minor": 2
}

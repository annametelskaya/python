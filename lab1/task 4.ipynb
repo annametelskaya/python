{
 "cells": [
  {
   "cell_type": "code",
   "execution_count": null,
   "metadata": {},
   "outputs": [],
   "source": [
    "# Вывести на экран все натуральные решения уравнения  \n",
    "# A x + B y + C z = D. Коэффициенты – натуральные числа, которые\n",
    "# вводятся с клавиатуры. Решения должны быть выведены в столбец, например, \n",
    "# Уравнение: x + 2 y + 3 z = 10 \n",
    "# Всего решений: 4 \n",
    "# 1-й набор: 1  3  1 \n",
    "# 2-й набор: 2  1  2 \n",
    "# 3-й набор: 3  2  1 \n",
    "# 4-й набор: 5  1  1 "
   ]
  },
  {
   "cell_type": "code",
   "execution_count": 10,
   "metadata": {},
   "outputs": [],
   "source": [
    "class Equation:\n",
    "    A=0;\n",
    "    B=0;\n",
    "    C=0;\n",
    "    \n",
    "    def __init__(self):\n",
    "        self.A = int(input('Введи A:'))\n",
    "        self.B = int(input('Введи B:'))\n",
    "        self.C = int(input('Введи C:'))\n",
    "        self.D = int(input('Введи D:'))\n",
    "        print('Уравнение: ',self.A,'x +',self.B,'y +',self.C,'z =',self.D)\n",
    "        \n",
    "    def findSolutions(self):\n",
    "        z=0\n",
    "        number=0\n",
    "        while ((self.D-self.C*(z+1))>=2):\n",
    "            z+=1\n",
    "            y=0\n",
    "            while ((self.D-self.C*z-self.B*(y+1))>=1):\n",
    "                y+=1\n",
    "                print(number,'-й набор x=%d y=%d z=%d'%((self.D-self.C*z-self.B*y)/self.A,y,z))\n",
    "                number+=1\n",
    "        print('Колтчество решений: ', number)"
   ]
  },
  {
   "cell_type": "code",
   "execution_count": 12,
   "metadata": {},
   "outputs": [
    {
     "name": "stdout",
     "output_type": "stream",
     "text": [
      "Введи A:1\n",
      "Введи B:2\n",
      "Введи C:3\n",
      "Введи D:10\n",
      "Уравнение:  1 x + 2 y + 3 z = 10\n",
      "0 -й набор x=5 y=1 z=1\n",
      "1 -й набор x=3 y=2 z=1\n",
      "2 -й набор x=1 y=3 z=1\n",
      "3 -й набор x=2 y=1 z=2\n",
      "Колтчество решений:  4\n"
     ]
    }
   ],
   "source": [
    "e=Equation()\n",
    "e.findSolutions()"
   ]
  }
 ],
 "metadata": {
  "kernelspec": {
   "display_name": "Python 3",
   "language": "python",
   "name": "python3"
  },
  "language_info": {
   "codemirror_mode": {
    "name": "ipython",
    "version": 3
   },
   "file_extension": ".py",
   "mimetype": "text/x-python",
   "name": "python",
   "nbconvert_exporter": "python",
   "pygments_lexer": "ipython3",
   "version": "3.6.8"
  }
 },
 "nbformat": 4,
 "nbformat_minor": 2
}
